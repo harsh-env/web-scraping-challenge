{
 "cells": [
  {
   "cell_type": "code",
   "execution_count": 1,
   "id": "f03ff6cf",
   "metadata": {},
   "outputs": [],
   "source": [
    "# Dependencies\n",
    "import os\n",
    "from bs4 import BeautifulSoup as bs\n",
    "import requests"
   ]
  },
  {
   "cell_type": "markdown",
   "id": "35ce6e12",
   "metadata": {},
   "source": [
    "## Using Splinter & ChromeDriver Manager to Scrape Mars Website"
   ]
  },
  {
   "cell_type": "code",
   "execution_count": 2,
   "id": "e49a560e",
   "metadata": {},
   "outputs": [],
   "source": [
    "# Using splinter to scrape the web browser\n",
    "from splinter import Browser\n",
    "from webdriver_manager.chrome import ChromeDriverManager"
   ]
  },
  {
   "cell_type": "code",
   "execution_count": 3,
   "id": "51e56a5f",
   "metadata": {},
   "outputs": [
    {
     "name": "stdout",
     "output_type": "stream",
     "text": [
      "\n"
     ]
    },
    {
     "name": "stderr",
     "output_type": "stream",
     "text": [
      "[WDM] - ====== WebDriver manager ======\n",
      "[WDM] - Current google-chrome version is 102.0.5005\n",
      "[WDM] - Get LATEST chromedriver version for 102.0.5005 google-chrome\n",
      "[WDM] - Driver [C:\\Users\\mpddr\\.wdm\\drivers\\chromedriver\\win32\\102.0.5005.61\\chromedriver.exe] found in cache\n"
     ]
    }
   ],
   "source": [
    "# Setup splinter\n",
    "executable_path = {'executable_path': ChromeDriverManager().install()}\n",
    "browser = Browser('chrome', **executable_path, headless=False)"
   ]
  },
  {
   "cell_type": "code",
   "execution_count": 4,
   "id": "a7efc157",
   "metadata": {},
   "outputs": [],
   "source": [
    "url = 'https://redplanetscience.com/'\n",
    "browser.visit(url)"
   ]
  },
  {
   "cell_type": "code",
   "execution_count": 5,
   "id": "2d0740bc",
   "metadata": {},
   "outputs": [
    {
     "name": "stdout",
     "output_type": "stream",
     "text": [
      "page: 1 -------------\n",
      "Latest News Title: NASA's Curiosity Mars Rover Takes a New Selfie Before Record Climb\n",
      "Latest News Paragraph: Along with capturing an image before its steepest ascent ever, the robotic explorer filmed its \"selfie stick,\" or robotic arm, in action.\n",
      "Latest News Date: June 15, 2022\n"
     ]
    }
   ],
   "source": [
    "#  x is page number denotation\n",
    "pg = []\n",
    "for x in range(1, 6):\n",
    "    \n",
    "    pg.append (x)\n",
    "    html = browser.html\n",
    "    soup = bs(html, 'html.parser')\n",
    "    \n",
    "    data_text = soup.find_all('div', class_ = 'list_text')\n",
    "#     c_title = soup.find_all('div', class_='content_title')\n",
    "#     title_date = soup.find_all('div', class_='list_date')\n",
    "    cont_date =[]\n",
    "    cont_title=[]\n",
    "    cont_body=[]\n",
    "\n",
    "    for data in data_text:\n",
    "        title_date = data.find('div','list_date')\n",
    "        cont_date.append (title_date)\n",
    "        titles = data.find('div','content_title')\n",
    "        cont_title.append (titles)\n",
    "        body = data.find('div', 'article_teaser_body')\n",
    "        cont_body.append (body)\n",
    "#         print('page:', x, '-------------')\n",
    "#         print(cont_title)\n",
    "#         print(cont_date)\n",
    "\n",
    "print('page:', pg[0], '-------------')\n",
    "print(f\"Latest News Title: {cont_title[0].text}\")\n",
    "print(f\"Latest News Paragraph: {cont_body[0].text}\")\n",
    "print(f\"Latest News Date: {cont_date[0].text}\")\n",
    "      "
   ]
  },
  {
   "cell_type": "code",
   "execution_count": null,
   "id": "b56bb77f",
   "metadata": {},
   "outputs": [],
   "source": []
  },
  {
   "cell_type": "code",
   "execution_count": null,
   "id": "ffbe993f",
   "metadata": {},
   "outputs": [],
   "source": []
  },
  {
   "cell_type": "code",
   "execution_count": null,
   "id": "8556ee1a",
   "metadata": {},
   "outputs": [],
   "source": []
  },
  {
   "cell_type": "code",
   "execution_count": 6,
   "id": "8f4f1ba0",
   "metadata": {},
   "outputs": [],
   "source": [
    "browser.quit()"
   ]
  },
  {
   "cell_type": "code",
   "execution_count": null,
   "id": "5a8f1f4e",
   "metadata": {},
   "outputs": [],
   "source": []
  }
 ],
 "metadata": {
  "kernelspec": {
   "display_name": "Python 3",
   "language": "python",
   "name": "python3"
  },
  "language_info": {
   "codemirror_mode": {
    "name": "ipython",
    "version": 3
   },
   "file_extension": ".py",
   "mimetype": "text/x-python",
   "name": "python",
   "nbconvert_exporter": "python",
   "pygments_lexer": "ipython3",
   "version": "3.6.10"
  }
 },
 "nbformat": 4,
 "nbformat_minor": 5
}
