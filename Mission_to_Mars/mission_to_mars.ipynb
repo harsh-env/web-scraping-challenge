{
 "cells": [
  {
   "cell_type": "code",
   "execution_count": 1,
   "id": "f03ff6cf",
   "metadata": {},
   "outputs": [],
   "source": [
    "# Dependencies\n",
    "import os\n",
    "from bs4 import BeautifulSoup as bs\n",
    "import requests"
   ]
  },
  {
   "cell_type": "markdown",
   "id": "0b88fdeb",
   "metadata": {},
   "source": [
    "## Using Splinter & ChromeDriver Manager to Scrape Mars Website"
   ]
  },
  {
   "cell_type": "code",
   "execution_count": 2,
   "id": "d8e883ab",
   "metadata": {},
   "outputs": [],
   "source": [
    "# Using splinter to scrape the web browser\n",
    "from splinter import Browser\n",
    "from webdriver_manager.chrome import ChromeDriverManager"
   ]
  },
  {
   "cell_type": "code",
   "execution_count": 3,
   "id": "64f36cc8",
   "metadata": {},
   "outputs": [
    {
     "name": "stdout",
     "output_type": "stream",
     "text": [
      "\n"
     ]
    },
    {
     "name": "stderr",
     "output_type": "stream",
     "text": [
      "[WDM] - ====== WebDriver manager ======\n",
      "[WDM] - Current google-chrome version is 102.0.5005\n",
      "[WDM] - Get LATEST chromedriver version for 102.0.5005 google-chrome\n",
      "[WDM] - Driver [C:\\Users\\mpddr\\.wdm\\drivers\\chromedriver\\win32\\102.0.5005.61\\chromedriver.exe] found in cache\n"
     ]
    }
   ],
   "source": [
    "# Setup splinter\n",
    "executable_path = {'executable_path': ChromeDriverManager().install()}\n",
    "browser = Browser('chrome', **executable_path, headless=False)"
   ]
  },
  {
   "cell_type": "code",
   "execution_count": 4,
   "id": "44ce1b3f",
   "metadata": {},
   "outputs": [],
   "source": [
    "url = 'https://redplanetscience.com/'\n",
    "browser.visit(url)"
   ]
  },
  {
   "cell_type": "code",
   "execution_count": 5,
   "id": "e6ecba66",
   "metadata": {},
   "outputs": [
    {
     "name": "stdout",
     "output_type": "stream",
     "text": [
      "page: 1 -------------\n",
      "Latest News Title: NASA's Curiosity Rover Finds an Ancient Oasis on Mars\n",
      "Latest News Paragraph: New evidence suggests salty, shallow ponds once dotted a Martian crater — a sign of the planet's drying climate.\n",
      "Latest News Date: June 17, 2022\n"
     ]
    }
   ],
   "source": [
    "#  x is page number denotation\n",
    "pg = []\n",
    "for x in range(1, 6):\n",
    "    \n",
    "    pg.append (x)\n",
    "    html = browser.html\n",
    "    soup = bs(html, 'html.parser')\n",
    "    \n",
    "    data_text = soup.find_all('div', class_ = 'list_text')\n",
    "#     c_title = soup.find_all('div', class_='content_title')\n",
    "#     title_date = soup.find_all('div', class_='list_date')\n",
    "    cont_date =[]\n",
    "    cont_title=[]\n",
    "    cont_body=[]\n",
    "\n",
    "    for data in data_text:\n",
    "        title_date = data.find('div','list_date')\n",
    "        cont_date.append (title_date)\n",
    "        titles = data.find('div','content_title')\n",
    "        cont_title.append (titles)\n",
    "        body = data.find('div', 'article_teaser_body')\n",
    "        cont_body.append (body)\n",
    "#         print('page:', x, '-------------')\n",
    "#         print(cont_title)\n",
    "#         print(cont_date)\n",
    "\n",
    "print('page:', pg[0], '-------------')\n",
    "print(f\"Latest News Title: {cont_title[0].text}\")\n",
    "print(f\"Latest News Paragraph: {cont_body[0].text}\")\n",
    "print(f\"Latest News Date: {cont_date[0].text}\")\n",
    "      "
   ]
  },
  {
   "cell_type": "markdown",
   "id": "107469ab",
   "metadata": {},
   "source": [
    "### Another way to Scrape website "
   ]
  },
  {
   "cell_type": "code",
   "execution_count": 6,
   "id": "fa282a8a",
   "metadata": {},
   "outputs": [
    {
     "name": "stdout",
     "output_type": "stream",
     "text": [
      "Latest News Title: The MarCO Mission Comes to an End\n",
      "Latest News Paragraph: The pair of briefcase-sized satellites made history when they sailed past Mars in 2019.\n",
      "Latest News Date: June 17, 2022\n"
     ]
    }
   ],
   "source": [
    "# This method needs CHromeDriver Manager too.. Requests to wesbite without chromedriver dont seem to work. \n",
    "url = 'https://redplanetscience.com/'\n",
    "browser.visit(url)\n",
    "\n",
    "#  Create the html object\n",
    "html = browser.html\n",
    "\n",
    "#  use Beautiful soup to parse and find required titles, dates etc.\n",
    "soup = bs(html, 'html.parser')\n",
    "Latest_news_title = soup.find_all('div', class_='content_title')[0].text\n",
    "Latest_news_paragraph = soup.find_all('div', class_='article_teaser_body')[0].text\n",
    "Latest_News_Date = soup.find_all('div', class_='list_date')[0].text\n",
    "\n",
    "# Print results\n",
    "print(f\"Latest News Title: {Latest_news_title}\")\n",
    "print(f\"Latest News Paragraph: {Latest_news_paragraph}\")\n",
    "print(f\"Latest News Date: {Latest_News_Date}\")\n"
   ]
  },
  {
   "cell_type": "code",
   "execution_count": 7,
   "id": "dc408a48",
   "metadata": {},
   "outputs": [],
   "source": [
    "# Close the open browser\n",
    "# browser.quit()"
   ]
  },
  {
   "cell_type": "code",
   "execution_count": 8,
   "id": "8d3e3495",
   "metadata": {},
   "outputs": [],
   "source": [
    "url = 'https://spaceimages-mars.com/'\n",
    "browser.visit(url)"
   ]
  },
  {
   "cell_type": "code",
   "execution_count": 20,
   "id": "1da149f8",
   "metadata": {},
   "outputs": [
    {
     "data": {
      "text/plain": [
       "[<div class=\"floating_text_area\">\n",
       " <h2 class=\"brand_title\">FEATURED IMAGE</h2>\n",
       " <h1 class=\"media_feature_title\">Dusty Space Cloud</h1>\n",
       " <br/>\n",
       " <a class=\"showimg fancybox-thumbs\" href=\"image/featured/mars2.jpg\" target=\"_blank\"> <button class=\"btn btn-outline-light\"> FULL IMAGE</button></a>\n",
       " </div>]"
      ]
     },
     "execution_count": 20,
     "metadata": {},
     "output_type": "execute_result"
    }
   ],
   "source": [
    "#  Create the html object\n",
    "html = browser.html\n",
    "\n",
    "#  use Beautiful soup to parse and find required titles, dates etc.\n",
    "soup = bs(html, 'html.parser')\n",
    "floating_txt_area = soup.find_all('div', class_='floating_text_area')\n",
    "floating_txt_area"
   ]
  },
  {
   "cell_type": "code",
   "execution_count": 22,
   "id": "8e5b7289",
   "metadata": {},
   "outputs": [
    {
     "name": "stdout",
     "output_type": "stream",
     "text": [
      "image/featured/mars2.jpg\n",
      "Featured_image_url):https://spaceimages-mars.com/image/featured/mars2.jpg\n"
     ]
    }
   ],
   "source": [
    "for img in floating_txt_area:\n",
    "    a = img.find('a')\n",
    "    image = a['href']\n",
    "    print(image)\n",
    "featured_image_url = 'https://spaceimages-mars.com/' + image\n",
    "print (f\"Featured_image_url):{featured_image_url}\")\n",
    "    "
   ]
  },
  {
   "cell_type": "code",
   "execution_count": null,
   "id": "025c030f",
   "metadata": {},
   "outputs": [],
   "source": []
  }
 ],
 "metadata": {
  "kernelspec": {
   "display_name": "Python 3",
   "language": "python",
   "name": "python3"
  },
  "language_info": {
   "codemirror_mode": {
    "name": "ipython",
    "version": 3
   },
   "file_extension": ".py",
   "mimetype": "text/x-python",
   "name": "python",
   "nbconvert_exporter": "python",
   "pygments_lexer": "ipython3",
   "version": "3.6.10"
  }
 },
 "nbformat": 4,
 "nbformat_minor": 5
}
